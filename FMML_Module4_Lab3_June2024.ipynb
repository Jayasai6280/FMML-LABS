{
  "nbformat": 4,
  "nbformat_minor": 0,
  "metadata": {
    "colab": {
      "provenance": [],
      "include_colab_link": true
    },
    "kernelspec": {
      "name": "python3",
      "display_name": "Python 3"
    },
    "language_info": {
      "name": "python"
    }
  },
  "cells": [
    {
      "cell_type": "markdown",
      "metadata": {
        "id": "view-in-github",
        "colab_type": "text"
      },
      "source": [
        "<a href=\"https://colab.research.google.com/github/Jayasai6280/FMML-LABS/blob/main/FMML_Module4_Lab3_June2024.ipynb\" target=\"_parent\"><img src=\"https://colab.research.google.com/assets/colab-badge.svg\" alt=\"Open In Colab\"/></a>"
      ]
    },
    {
      "cell_type": "markdown",
      "source": [
        "# FOUNDATIONS OF MODERN MACHINE LEARNING, IIIT Hyderabad\n",
        "# Module 4: Perceptron and Gradient Descent\n",
        "## Lab 3: Gradient Descent\n",
        "\n",
        "Gradient descent is a very important algorithm to understand, as it underpins many of the more advanced algorithms used in Machine Learning and Deep Learning.\n",
        "\n",
        "A brief overview of the algorithm is\n",
        "\n",
        "\n",
        "*   start with a random initialization of the solution.\n",
        "*   incrementally change the solution by moving in the direction of negative gradient of the objective function.\n",
        "*   repeat the previous step until some convergence criteria is met.\n",
        "\n",
        "The key equation for change in weight is:\n",
        "$$w^{k+1} \\leftarrow w^k - \\eta \\Delta J$$\n",
        "\n",
        "In this lab, we will discuss stochastic gradient descent, mini-batch gradient descent and batch gradient descent.\n"
      ],
      "metadata": {
        "id": "XYxxkQg6xCjD"
      }
    },
    {
      "cell_type": "code",
      "metadata": {
        "id": "Fr-MnaGs7JmZ"
      },
      "source": [
        "import numpy as np\n",
        "import matplotlib.pyplot as plt"
      ],
      "execution_count": 1,
      "outputs": []
    },
    {
      "cell_type": "code",
      "metadata": {
        "id": "7ob_zZms7VOu"
      },
      "source": [
        "np.random.seed(42)"
      ],
      "execution_count": 2,
      "outputs": []
    },
    {
      "cell_type": "markdown",
      "metadata": {
        "id": "v4Kix4bcChiy"
      },
      "source": [
        "# Creating the Data\n",
        "\n",
        "Let's generate some data with:\n",
        "\\begin{equation} y_0= 4 \\end{equation}\n",
        "\\begin{equation} y_1= 3 \\end{equation}\n",
        "\n",
        "and also add some noise to the data."
      ]
    },
    {
      "cell_type": "code",
      "metadata": {
        "id": "MtAS7eFZ9hX6"
      },
      "source": [
        "X = 2 * np.random.rand(100, 1)\n",
        "y = 4 + 3 * X + np.random.randn(100, 1)"
      ],
      "execution_count": 3,
      "outputs": []
    },
    {
      "cell_type": "markdown",
      "metadata": {
        "id": "zD95NaF-CxM-"
      },
      "source": [
        "Let's also plot the data we just created"
      ]
    },
    {
      "cell_type": "code",
      "metadata": {
        "colab": {
          "base_uri": "https://localhost:8080/",
          "height": 288
        },
        "id": "3IiEP4BQ7Wja",
        "outputId": "4defaaf2-9b82-49b6-b80b-5a47801861b8"
      },
      "source": [
        "plt.plot(X, y, 'b.')\n",
        "plt.xlabel('x')\n",
        "plt.ylabel('y', rotation=0)"
      ],
      "execution_count": 4,
      "outputs": [
        {
          "output_type": "execute_result",
          "data": {
            "text/plain": [
              "Text(0, 0.5, 'y')"
            ]
          },
          "metadata": {},
          "execution_count": 4
        },
        {
          "output_type": "display_data",
          "data": {
            "text/plain": [
              "<Figure size 640x480 with 1 Axes>"
            ],
            "image/png": "[encoded data removed]"
          },
          "metadata": {}
        }
      ]
    },
    {
      "cell_type": "markdown",
      "metadata": {
        "id": "ScwxpouoDDyZ"
      },
      "source": [
        "## Cost Function\n",
        "\n",
        "The equation for calculating cost function is as shown below. The cost function is only for linear regression. For other algorithms, the cost function will be different and the gradients would have to be derived from the cost functions\n",
        "\n",
        "\\begin{equation}\n",
        "J(y_{pred}) = \\frac{1}{2} m \\sum_{i=1}^{m} (h(y_{pred})^{(i)} - y^{(i)})^2\n",
        "\\end{equation}"
      ]
    },
    {
      "cell_type": "code",
      "metadata": {
        "id": "PUeTUAXH7ZaV"
      },
      "source": [
        "def cal_cost(y_pred, X, y):\n",
        "    '''\n",
        "    Calculates the cost for given X and Y.\n",
        "    y_pred = Vector of y_preds\n",
        "    X = Row of X's np.zeros((2, j))\n",
        "    y = Actual y's np.zeros((2, 1))\n",
        "\n",
        "    where:\n",
        "        j is the no of features\n",
        "    '''\n",
        "\n",
        "    m = len(y)\n",
        "\n",
        "    predictions = X.dot(y_pred)\n",
        "    cost = (1 / 2 * m) * np.sum(np.square(predictions - y))\n",
        "\n",
        "    return cost"
      ],
      "execution_count": 5,
      "outputs": []
    },
    {
      "cell_type": "markdown",
      "metadata": {
        "id": "FcXqsVNpDbKC"
      },
      "source": [
        "## Gradients\n",
        "\n",
        "\\begin{equation}\n",
        "y_{pred_0}: = y_{pred_0} -\\alpha . (1/m .\\sum_{i=1}^{m}(h(y_{pred}^{(i)} - y^{(i)}).X_0^{(i)})\n",
        "\\end{equation}\n",
        "\\begin{equation}\n",
        "y_{pred_1}: = y_{pred_1} -\\alpha . (1/m .\\sum_{i=1}^{m}(h(y_{pred}^{(i)} - y^{(i)}).X_0^{(i)})\n",
        "\\end{equation}\n",
        ".\n",
        "\n",
        ".\n",
        "\n",
        ".\n",
        "\n",
        ".\n",
        "\n",
        "\\begin{equation}\n",
        "y_{pred_j}: = y_{pred_j} -\\alpha . (1/m .\\sum_{i=1}^{m}(h(y_{pred}^{(i)} - y^{(i)}).X_0^{(i)})\n",
        "\\end{equation}"
      ]
    },
    {
      "cell_type": "code",
      "metadata": {
        "id": "fwxBFXP88NBW"
      },
      "source": [
        "def gradient_descent(X, y, y_pred, learning_rate=0.01, iterations=100):\n",
        "    '''\n",
        "    X = Matrix of X with added bias units\n",
        "    y = Vector of Y\n",
        "    y_pred = Vector of y_preds np.random.randn(j, 1)\n",
        "    learning_rate\n",
        "    iterations = no of iterations\n",
        "\n",
        "    Returns the final y_pred vector and array of cost history over no of iterations\n",
        "    '''\n",
        "\n",
        "    m = len(y)\n",
        "    cost_history = np.zeros(iterations)\n",
        "    y_pred_history = np.zeros((iterations, 2))\n",
        "\n",
        "    for it in range(iterations):\n",
        "        prediction = np.dot(X, y_pred)\n",
        "        y_pred = y_pred - (1 / m) * learning_rate * (X.T.dot((prediction - y)))\n",
        "        y_pred_history[it,:] = y_pred.T\n",
        "        cost_history[it]  = cal_cost(y_pred, X, y)\n",
        "\n",
        "    return y_pred, cost_history, y_pred_history"
      ],
      "execution_count": 6,
      "outputs": []
    },
    {
      "cell_type": "markdown",
      "metadata": {
        "id": "1iSohSB2EtK1"
      },
      "source": [
        "Let's do 1000 iterations with a learning rate of 0.01.\n",
        "We will start with a random prediction."
      ]
    },
    {
      "cell_type": "code",
      "metadata": {
        "colab": {
          "base_uri": "https://localhost:8080/"
        },
        "id": "18AX7hrU8bv5",
        "outputId": "f505048d-7095-4f68-b61e-f36790d1a9c9"
      },
      "source": [
        "lr = 0.01\n",
        "n_iter = 1000\n",
        "\n",
        "y_pred = np.random.randn(2,1)\n",
        "X_b = np.c_[np.ones((len(X), 1)), X]\n",
        "y_pred, cost_history, y_pred_history = gradient_descent(X_b, y, y_pred, lr, n_iter)\n",
        "\n",
        "print('y_pred[0]: {:0.3f}\\ny_pred[1]: {:0.3f}'.format(y_pred[0][0], y_pred[1][0]))\n",
        "print('Final error: {:0.3f}'.format(cost_history[-1]))"
      ],
      "execution_count": 7,
      "outputs": [
        {
          "output_type": "stream",
          "name": "stdout",
          "text": [
            "y_pred[0]: 3.903\n",
            "y_pred[1]: 3.046\n",
            "Final error: 4180.375\n"
          ]
        }
      ]
    },
    {
      "cell_type": "markdown",
      "metadata": {
        "id": "m7fao2MaE216"
      },
      "source": [
        "Plotting the error vs Number of iterations"
      ]
    },
    {
      "cell_type": "code",
      "metadata": {
        "colab": {
          "base_uri": "https://localhost:8080/",
          "height": 265
        },
        "id": "DrkrAAbk8hIs",
        "outputId": "a1660883-b0b8-4929-cfe6-63788104bec1"
      },
      "source": [
        "fig, ax = plt.subplots(figsize=(12,8))\n",
        "\n",
        "ax.set_ylabel('Error')\n",
        "ax.set_xlabel('Number of iterations')\n",
        "\n",
        "ax.plot(range(n_iter), cost_history, 'b.')"
      ],
      "execution_count": 8,
      "outputs": [
        {
          "output_type": "execute_result",
          "data": {
            "text/plain": [
              "[<matplotlib.lines.Line2D at 0x7cabe63dea70>]"
            ]
          },
          "metadata": {},
          "execution_count": 8
        },
        {
          "output_type": "display_data",
          "data": {
            "text/plain": [
              "<Figure size 1200x800 with 1 Axes>"
            ],
            "image/png": "[encoded data removed]"
          },
          "metadata": {}
        }
      ]
    },
    {
      "cell_type": "markdown",
      "metadata": {
        "id": "IG5tWAy-FCaW"
      },
      "source": [
        "Zooming in..."
      ]
    },
    {
      "cell_type": "code",
      "metadata": {
        "colab": {
          "base_uri": "https://localhost:8080/",
          "height": 301
        },
        "id": "WZ7BoFHy8kTk",
        "outputId": "7e6d3380-e3f3-49f0-890e-9d519e3f9758"
      },
      "source": [
        "fig,ax = plt.subplots(figsize=(10,8))\n",
        "ax.plot(range(200), cost_history[:200], 'b.')"
      ],
      "execution_count": 9,
      "outputs": [
        {
          "output_type": "execute_result",
          "data": {
            "text/plain": [
              "[<matplotlib.lines.Line2D at 0x7cabe645a890>]"
            ]
          },
          "metadata": {},
          "execution_count": 9
        },
        {
          "output_type": "display_data",
          "data": {
            "text/plain": [
              "<Figure size 1000x800 with 1 Axes>"
            ],
            "image/png": "[encoded data removed]"
          },
          "metadata": {}
        }
      ]
    },
    {
      "cell_type": "markdown",
      "metadata": {
        "id": "JYhOp3fjnh2G"
      },
      "source": [
        "# Stochastic Gradient Descent"
      ]
    },
    {
      "cell_type": "markdown",
      "source": [
        "In Batch Gradient Descent we were considering all the examples for every step of Gradient Descent. But what if our dataset is very huge. Deep learning models crave for data. The more the data the more chances of a model to be good. Suppose our dataset has 5 million examples, then just to take one step the model will have to calculate the gradients of all the 5 million examples. This does not seem an efficient way. To tackle this problem we have Stochastic Gradient Descent. In Stochastic Gradient Descent (SGD), we consider just one example at a time to take a single step."
      ],
      "metadata": {
        "id": "10N2dcwWUctJ"
      }
    },
    {
      "cell_type": "code",
      "metadata": {
        "id": "aVwD7Cqw8m1d"
      },
      "source": [
        "def stocashtic_gradient_descent(X, y, y_pred, learning_rate=0.01, iterations=10):\n",
        "    '''\n",
        "    X = Matrix of X with added bias units\n",
        "    y = Vector of Y\n",
        "    y_pred = Vector of y_pred np.random.randn(j,1)\n",
        "    learning_rate\n",
        "    iterations = no of iterations\n",
        "\n",
        "    Returns the final y_pred vector and array of cost history over no of iterations\n",
        "    '''\n",
        "\n",
        "    m = len(y)\n",
        "    cost_history = np.zeros(iterations)\n",
        "\n",
        "    for it in range(iterations):\n",
        "        cost = 0.0\n",
        "\n",
        "        for i in range(m):\n",
        "            rand_ind = np.random.randint(0,m)\n",
        "            X_i = X[rand_ind, :].reshape(1, X.shape[1])\n",
        "            y_i = y[rand_ind].reshape(1,1)\n",
        "            prediction = np.dot(X_i, y_pred)\n",
        "\n",
        "            y_pred = y_pred - (1 / m) * learning_rate *(X_i.T.dot((prediction - y_i)))\n",
        "            cost += cal_cost(y_pred, X_i, y_i)\n",
        "\n",
        "        cost_history[it]  = cost\n",
        "\n",
        "    return y_pred, cost_history"
      ],
      "execution_count": 10,
      "outputs": []
    },
    {
      "cell_type": "code",
      "metadata": {
        "colab": {
          "base_uri": "https://localhost:8080/"
        },
        "id": "Yk6pfB5c8tPz",
        "outputId": "9e7258c7-ce4b-4b79-cbec-ecfb4981aaeb"
      },
      "source": [
        "lr = 0.5\n",
        "n_iter = 50\n",
        "y_pred = np.random.randn(2, 1)\n",
        "X_b = np.c_[np.ones((len(X), 1)), X]\n",
        "y_pred, cost_history = stocashtic_gradient_descent(X_b, y, y_pred, lr, n_iter)\n",
        "\n",
        "print('y_pred[0]: {:0.3f}\\ny_pred[1]: {:0.3f}'.format(y_pred[0][0], y_pred[1][0]))\n",
        "print('Final error: {:0.3f}'.format(cost_history[-1]))"
      ],
      "execution_count": 11,
      "outputs": [
        {
          "output_type": "stream",
          "name": "stdout",
          "text": [
            "y_pred[0]: 4.121\n",
            "y_pred[1]: 2.755\n",
            "Final error: 41.313\n"
          ]
        }
      ]
    },
    {
      "cell_type": "code",
      "metadata": {
        "colab": {
          "base_uri": "https://localhost:8080/",
          "height": 311
        },
        "id": "YiJUgS7o8u2e",
        "outputId": "928a74e8-5e79-4108-863a-a362b626207a"
      },
      "source": [
        "fig, ax = plt.subplots(figsize=(10,8))\n",
        "\n",
        "ax.set_ylabel('Error')\n",
        "ax.set_xlabel('Number of iterations')\n",
        "y_pred = np.random.randn(2,1)\n",
        "\n",
        "ax.plot(range(n_iter), cost_history, 'b.')"
      ],
      "execution_count": 12,
      "outputs": [
        {
          "output_type": "execute_result",
          "data": {
            "text/plain": [
              "[<matplotlib.lines.Line2D at 0x7cabe5ed7e80>]"
            ]
          },
          "metadata": {},
          "execution_count": 12
        },
        {
          "output_type": "display_data",
          "data": {
            "text/plain": [
              "<Figure size 1000x800 with 1 Axes>"
            ],
            "image/png": "[encoded data removed]"
          },
          "metadata": {}
        }
      ]
    },
    {
      "cell_type": "markdown",
      "metadata": {
        "id": "ScckWktynk1o"
      },
      "source": [
        "# Mini Batch Gradient Descent"
      ]
    },
    {
      "cell_type": "markdown",
      "source": [
        "We have seen the Batch Gradient Descent. We have also seen the Stochastic Gradient Descent. Batch Gradient Descent can be used for smoother curves. SGD can be used when the dataset is large. Batch Gradient Descent converges directly to minima. SGD converges faster for larger datasets. But, since in SGD we use only one example at a time, we cannot implement the vectorized implementation on it. This can slow down the computations. To tackle this problem, a mixture of Batch Gradient Descent and SGD is used.\n",
        "Neither we use all the dataset all at once nor we use the single example at a time. We use a batch of a fixed number of training examples which is less than the actual dataset and call it a mini-batch. Doing this helps us achieve the advantages of both the former variants we saw."
      ],
      "metadata": {
        "id": "ZTVz-QssUkuE"
      }
    },
    {
      "cell_type": "code",
      "metadata": {
        "id": "4JtxFVL78wEm"
      },
      "source": [
        "def minibatch_gradient_descent(X, y, y_pred, learning_rate=0.01, iterations=10, batch_size=20):\n",
        "    '''\n",
        "    X = Matrix of X without added bias units\n",
        "    y = Vector of Y\n",
        "    y_pred = Vector of y_preds np.random.randn(j, 1)\n",
        "    learning_rate\n",
        "    iterations = no of iterations\n",
        "\n",
        "    Returns the final theta vector and array of cost history over no of iterations\n",
        "    '''\n",
        "\n",
        "    m = len(y)\n",
        "    cost_history = np.zeros(iterations)\n",
        "    n_batches = int(m / batch_size)\n",
        "\n",
        "    for it in range(iterations):\n",
        "        cost = 0.0\n",
        "        indices = np.random.permutation(m)\n",
        "        X = X[indices]\n",
        "        y = y[indices]\n",
        "\n",
        "        for i in range(0, m, batch_size):\n",
        "            X_i = X[i: i + batch_size]\n",
        "            y_i = y[i: i + batch_size]\n",
        "\n",
        "            X_i = np.c_[np.ones(len(X_i)), X_i]\n",
        "            prediction = np.dot(X_i, y_pred)\n",
        "\n",
        "            y_pred = y_pred - (1 / m) * learning_rate * (X_i.T.dot((prediction - y_i)))\n",
        "            cost += cal_cost(y_pred, X_i, y_i)\n",
        "\n",
        "        cost_history[it]  = cost\n",
        "\n",
        "    return y_pred, cost_history"
      ],
      "execution_count": 13,
      "outputs": []
    },
    {
      "cell_type": "code",
      "metadata": {
        "colab": {
          "base_uri": "https://localhost:8080/"
        },
        "id": "SpbsVwA28znL",
        "outputId": "2cd32fa1-b341-4382-bd14-3997443eeb1b"
      },
      "source": [
        "lr = 0.1\n",
        "n_iter = 200\n",
        "y_pred = np.random.randn(2,1)\n",
        "y_pred, cost_history = minibatch_gradient_descent(X, y, y_pred, lr, n_iter)\n",
        "\n",
        "print('y_pred[0]: {:0.3f}\\ny_pred[1]: {:0.3f}'.format(y_pred[0][0], y_pred[1][0]))\n",
        "print('Final error: {:0.3f}'.format(cost_history[-1]))"
      ],
      "execution_count": 14,
      "outputs": [
        {
          "output_type": "stream",
          "name": "stdout",
          "text": [
            "y_pred[0]: 4.148\n",
            "y_pred[1]: 2.827\n",
            "Final error: 807.488\n"
          ]
        }
      ]
    },
    {
      "cell_type": "code",
      "metadata": {
        "colab": {
          "base_uri": "https://localhost:8080/",
          "height": 305
        },
        "id": "Q_ivOYHT817C",
        "outputId": "af6364bf-ee3c-4b2b-8bbf-b096ba169741"
      },
      "source": [
        "fig, ax = plt.subplots(figsize=(10,8))\n",
        "\n",
        "ax.set_ylabel('Error')\n",
        "ax.set_xlabel('Number of iterations')\n",
        "y_pred = np.random.randn(2,1)\n",
        "\n",
        "ax.plot(range(n_iter), cost_history, 'b.')"
      ],
      "execution_count": 15,
      "outputs": [
        {
          "output_type": "execute_result",
          "data": {
            "text/plain": [
              "[<matplotlib.lines.Line2D at 0x7cabe5a354b0>]"
            ]
          },
          "metadata": {},
          "execution_count": 15
        },
        {
          "output_type": "display_data",
          "data": {
            "text/plain": [
              "<Figure size 1000x800 with 1 Axes>"
            ],
            "image/png": "[encoded data removed]"
          },
          "metadata": {}
        }
      ]
    },
    {
      "cell_type": "markdown",
      "source": [
        "Things to try out:\n",
        "\n",
        "1. Change batch size in mini-batch gradient descent.\n",
        "2. Test all the three out on real datasets.\n",
        "3. Compare the effects of changing learning rate by the same amount in Batch GD, SGD and Mini-batch GD."
      ],
      "metadata": {
        "id": "0neTARjKUoP4"
      }
    },
    {
      "cell_type": "markdown",
      "source": [
        "import numpy as np\n",
        "import matplotlib.pyplot as plt\n",
        "from sklearn.datasets import fetch_california_housing\n",
        "from sklearn.preprocessing import StandardScaler\n",
        "from sklearn.model_selection import train_test_split\n",
        "\n",
        "# Load California Housing dataset\n",
        "data = fetch_california_housing()\n",
        "X, y = data.data, data.target\n",
        "\n",
        "# Standardize the dataset\n",
        "scaler = StandardScaler()\n",
        "X = scaler.fit_transform(X)\n",
        "y = y.reshape(-1, 1)\n",
        "\n",
        "# Add a column of ones for the bias term\n",
        "X = np.c_[np.ones(X.shape[0]), X]\n",
        "\n",
        "# Split into train and test sets\n",
        "X_train, X_test, y_train, y_test = train_test_split(X, y, test_size=0.2, random_state=42)\n",
        "\n",
        "# Define the cost function\n",
        "def cal_cost(y_pred, X, y):\n",
        "    m = len(y)\n",
        "    cost = (1 / (2 * m)) * np.sum((np.dot(X, y_pred) - y) ** 2)\n",
        "    return cost\n",
        "\n",
        "# Batch Gradient Descent\n",
        "def batch_gradient_descent(X, y, learning_rate=0.01, iterations=100):\n",
        "    m, n = X.shape\n",
        "    y_pred = np.random.randn(n, 1)\n",
        "    cost_history = np.zeros(iterations)\n",
        "\n",
        "    for it in range(iterations):\n",
        "        prediction = np.dot(X, y_pred)\n",
        "        gradients = (1 / m) * X.T.dot(prediction - y)\n",
        "        y_pred -= learning_rate * gradients\n",
        "        cost_history[it] = cal_cost(y_pred, X, y)\n",
        "\n",
        "    return y_pred, cost_history\n",
        "\n",
        "# Stochastic Gradient Descent\n",
        "def stochastic_gradient_descent(X, y, learning_rate=0.01, iterations=100):\n",
        "    m, n = X.shape\n",
        "    y_pred = np.random.randn(n, 1)\n",
        "    cost_history = np.zeros(iterations)\n",
        "\n",
        "    for it in range(iterations):\n",
        "        cost = 0\n",
        "        for i in range(m):\n",
        "            random_idx = np.random.randint(m)\n",
        "            X_i = X[random_idx:random_idx + 1]\n",
        "            y_i = y[random_idx:random_idx + 1]\n",
        "\n",
        "            prediction = np.dot(X_i, y_pred)\n",
        "            gradients = X_i.T.dot(prediction - y_i)\n",
        "            y_pred -= learning_rate * gradients\n",
        "            cost += cal_cost(y_pred, X_i, y_i)\n",
        "\n",
        "        cost_history[it] = cost / m\n",
        "\n",
        "    return y_pred, cost_history\n",
        "\n",
        "# Mini-Batch Gradient Descent\n",
        "def minibatch_gradient_descent(X, y, learning_rate=0.01, iterations=100, batch_size=32):\n",
        "    m, n = X.shape\n",
        "    y_pred = np.random.randn(n, 1)\n",
        "    cost_history = np.zeros(iterations)\n",
        "\n",
        "    for it in range(iterations):\n",
        "        cost = 0.0\n",
        "        indices = np.random.permutation(m)\n",
        "        X = X[indices]\n",
        "        y = y[indices]\n",
        "\n",
        "        for i in range(0, m, batch_size):\n",
        "            X_i = X[i:i + batch_size]\n",
        "            y_i = y[i:i + batch_size]\n",
        "\n",
        "            prediction = np.dot(X_i, y_pred)\n",
        "            gradients = (1 / len(y_i)) * X_i.T.dot(prediction - y_i)\n",
        "            y_pred -= learning_rate * gradients\n",
        "            cost += cal_cost(y_pred, X_i, y_i)\n",
        "\n",
        "        cost_history[it] = cost / (m / batch_size)\n",
        "\n",
        "    return y_pred, cost_history\n",
        "\n",
        "# Test different learning rates for each method\n",
        "learning_rates = [0.001, 0.01, 0.1]\n",
        "iterations = 200\n",
        "batch_size = 32\n",
        "\n",
        "# Initialize plots\n",
        "plt.figure(figsize=(12, 10))\n",
        "\n",
        "# Loop through each learning rate and plot for each method\n",
        "for lr in learning_rates:\n",
        "    # Batch Gradient Descent\n",
        "    _, cost_history_batch = batch_gradient_descent(X_train, y_train, lr, iterations)\n",
        "    plt.plot(range(iterations), cost_history_batch, label=f'Batch GD (lr={lr})')\n",
        "\n",
        "    # Stochastic Gradient Descent\n",
        "    _, cost_history_stochastic = stochastic_gradient_descent(X_train, y_train, lr, iterations)\n",
        "    plt.plot(range(iterations), cost_history_stochastic, label=f'SGD (lr={lr})')\n",
        "\n",
        "    # Mini-Batch Gradient Descent\n",
        "    _, cost_history_minibatch = minibatch_gradient_descent(X_train, y_train, lr, iterations, batch_size)\n",
        "    plt.plot(range(iterations), cost_history_minibatch, label=f'Mini-Batch GD (lr={lr})')\n",
        "\n",
        "# Labels and legend\n",
        "plt.xlabel('Iterations')\n",
        "plt.ylabel('Cost')\n",
        "plt.legend(loc='best')\n",
        "plt.title('Effect of Learning Rate on Gradient Descent Methods')\n",
        "plt.show()\n",
        "\n",
        "     \n",
        "<ipython-input-5-e89e0ce15abf>:25: RuntimeWarning: overflow encountered in square\n",
        "  cost = (1 / (2 * m)) * np.sum((np.dot(X, y_pred) - y) ** 2)\n",
        "<ipython-input-5-e89e0ce15abf>:58: RuntimeWarning: overflow encountered in scalar add\n",
        "  cost += cal_cost(y_pred, X_i, y_i)\n",
        "<ipython-input-5-e89e0ce15abf>:57: RuntimeWarning: invalid value encountered in subtract\n",
        "  y_pred -= learning_rate * gradients\n",
        "/usr/local/lib/python3.10/dist-packages/numpy/core/fromnumeric.py:88: RuntimeWarning: overflow encountered in reduce\n",
        "  return ufunc.reduce(obj, axis, dtype, out, **passkwargs)\n",
        "<ipython-input-5-e89e0ce15abf>:82: RuntimeWarning: invalid value encountered in subtract\n",
        "  y_pred -= learning_rate * gradients"
      ],
      "metadata": {
        "id": "szg7FuerVJet"
      }
    },
    {
      "cell_type": "markdown",
      "source": [
        "import matplotlib.pyplot as plt\n",
        "from sklearn.datasets import fetch_california_housing\n",
        "from sklearn.preprocessing import StandardScaler\n",
        "from sklearn.model_selection import train_test_split\n",
        "\n",
        "# Load California Housing dataset\n",
        "data = fetch_california_housing()\n",
        "X, y = data.data, data.target\n",
        "\n",
        "# Standardize the dataset\n",
        "scaler = StandardScaler()\n",
        "X = scaler.fit_transform(X)\n",
        "y = y.reshape(-1, 1)\n",
        "\n",
        "# Add a column of ones for the bias term\n",
        "X = np.c_[np.ones(X.shape[0]), X]\n",
        "\n",
        "# Split into train and test sets\n",
        "X_train, X_test, y_train, y_test = train_test_split(X, y, test_size=0.2, random_state=42)\n",
        "\n",
        "# Define the cost function\n",
        "def cal_cost(y_pred, X, y):\n",
        "    m = len(y)\n",
        "    cost = (1 / (2 * m)) * np.sum((np.dot(X, y_pred) - y) ** 2)\n",
        "    return cost\n",
        "\n",
        "# Batch Gradient Descent\n",
        "def batch_gradient_descent(X, y, learning_rate=0.01, iterations=100):\n",
        "    m, n = X.shape\n",
        "    y_pred = np.random.randn(n, 1)\n",
        "    cost_history = np.zeros(iterations)\n",
        "\n",
        "    for it in range(iterations):\n",
        "        prediction = np.dot(X, y_pred)\n",
        "        gradients = (1 / m) * X.T.dot(prediction - y)\n",
        "        y_pred -= learning_rate * gradients\n",
        "        cost_history[it] = cal_cost(y_pred, X, y)\n",
        "\n",
        "    return y_pred, cost_history\n",
        "\n",
        "# Stochastic Gradient Descent\n",
        "def stochastic_gradient_descent(X, y, learning_rate=0.01, iterations=100):\n",
        "    m, n = X.shape\n",
        "    y_pred = np.random.randn(n, 1)\n",
        "    cost_history = np.zeros(iterations)\n",
        "\n",
        "    for it in range(iterations):\n",
        "        cost = 0\n",
        "        for i in range(m):\n",
        "            random_idx = np.random.randint(m)\n",
        "            X_i = X[random_idx:random_idx + 1]\n",
        "            y_i = y[random_idx:random_idx + 1]\n",
        "\n",
        "            prediction = np.dot(X_i, y_pred)\n",
        "            gradients = X_i.T.dot(prediction - y_i)\n",
        "            y_pred -= learning_rate * gradients\n",
        "            cost += cal_cost(y_pred, X_i, y_i)\n",
        "\n",
        "        cost_history[it] = cost / m\n",
        "\n",
        "    return y_pred, cost_history\n",
        "\n",
        "# Mini-Batch Gradient Descent\n",
        "def minibatch_gradient_descent(X, y, learning_rate=0.01, iterations=100, batch_size=32):\n",
        "    m, n = X.shape\n",
        "    y_pred = np.random.randn(n, 1)\n",
        "    cost_history = np.zeros(iterations)\n",
        "\n",
        "    for it in range(iterations):\n",
        "        cost = 0.0\n",
        "        indices = np.random.permutation(m)\n",
        "        X = X[indices]\n",
        "        y = y[indices]\n",
        "\n",
        "        for i in range(0, m, batch_size):\n",
        "            X_i = X[i:i + batch_size]\n",
        "            y_i = y[i:i + batch_size]\n",
        "\n",
        "            prediction = np.dot(X_i, y_pred)\n",
        "            gradients = (1 / len(y_i)) * X_i.T.dot(prediction - y_i)\n",
        "            y_pred -= learning_rate * gradients\n",
        "            cost += cal_cost(y_pred, X_i, y_i)\n",
        "\n",
        "        cost_history[it] = cost / (m / batch_size)\n",
        "\n",
        "    return y_pred, cost_history\n",
        "\n",
        "# Test all methods\n",
        "lr = 0.01\n",
        "iterations = 200\n",
        "\n",
        "# Batch Gradient Descent\n",
        "y_pred_batch, cost_history_batch = batch_gradient_descent(X_train, y_train, lr, iterations)\n",
        "\n",
        "# Stochastic Gradient Descent\n",
        "y_pred_stochastic, cost_history_stochastic = stochastic_gradient_descent(X_train, y_train, lr, iterations)\n",
        "\n",
        "# Mini-Batch Gradient Descent\n",
        "batch_size = 32\n",
        "y_pred_minibatch, cost_history_minibatch = minibatch_gradient_descent(X_train, y_train, lr, iterations, batch_size)\n",
        "\n",
        "# Plot the cost history\n",
        "plt.figure(figsize=(12, 8))\n",
        "plt.plot(range(iterations), cost_history_batch, label='Batch Gradient Descent', color='b')\n",
        "plt.plot(range(iterations), cost_history_stochastic, label='Stochastic Gradient Descent', color='r')\n",
        "plt.plot(range(iterations), cost_history_minibatch, label='Mini-Batch Gradient Descent', color='g')\n",
        "plt.xlabel('Iterations')\n",
        "plt.ylabel('Cost')\n",
        "plt.legend()\n",
        "plt.title('Cost History Comparison')\n",
        "plt.show()\n",
        "\n",
        "     \n",
        "<ipython-input-4-d288f98406d6>:25: RuntimeWarning: overflow encountered in square\n",
        "  cost = (1 / (2 * m)) * np.sum((np.dot(X, y_pred) - y) ** 2)\n",
        "<ipython-input-4-d288f98406d6>:58: RuntimeWarning: overflow encountered in scalar add\n",
        "  cost += cal_cost(y_pred, X_i, y_i)\n",
        "<ipython-input-4-d288f98406d6>:57: RuntimeWarning: invalid value encountered in subtract\n",
        "  y_pred -= learning_rate * gradients"
      ],
      "metadata": {
        "id": "rOfl1NgFVDP1"
      }
    },
    {
      "cell_type": "markdown",
      "source": [
        "Change batch size in mini-batch gradient descent.\n",
        "\n",
        "import numpy as np\n",
        "import matplotlib.pyplot as plt\n",
        "\n",
        "def cal_cost(y_pred, X, y):\n",
        "    m = len(y)\n",
        "    cost = (1 / (2 * m)) * np.sum((np.dot(X, y_pred) - y) ** 2)\n",
        "    return cost\n",
        "\n",
        "# Define the minibatch gradient descent function\n",
        "def minibatch_gradient_descent(X, y, y_pred, learning_rate=0.01, iterations=10, batch_size=20):\n",
        "    m = len(y)\n",
        "    cost_history = np.zeros(iterations)\n",
        "\n",
        "    for it in range(iterations):\n",
        "        cost = 0.0\n",
        "        indices = np.random.permutation(m)\n",
        "        X = X[indices]\n",
        "        y = y[indices]\n",
        "\n",
        "        for i in range(0, m, batch_size):\n",
        "            X_i = X[i: i + batch_size]\n",
        "            y_i = y[i: i + batch_size]\n",
        "\n",
        "            X_i = np.c_[np.ones(len(X_i)), X_i]\n",
        "            prediction = np.dot(X_i, y_pred)\n",
        "\n",
        "            y_pred = y_pred - (1 / m) * learning_rate * (X_i.T.dot((prediction - y_i)))\n",
        "            cost += cal_cost(y_pred, X_i, y_i)\n",
        "\n",
        "        cost_history[it] = cost\n",
        "\n",
        "    return y_pred, cost_history\n",
        "\n",
        "X = np.random.randn(100, 1)\n",
        "y = 3 * X.squeeze() + 2 + np.random.randn(100) * 0.5\n",
        "y = y.reshape(-1, 1)\n",
        "y_pred = np.random.randn(2, 1)\n",
        "lr = 0.1\n",
        "n_iter = 200\n",
        "batch_size = 50\n",
        "\n",
        "# Perform minibatch gradient descent\n",
        "y_pred, cost_history = minibatch_gradient_descent(X, y, y_pred, lr, n_iter, batch_size)\n",
        "\n",
        "# Print results\n",
        "print('y_pred[0]: {:0.3f}\\ny_pred[1]: {:0.3f}'.format(y_pred[0][0], y_pred[1][0]))\n",
        "print('Final error: {:0.3f}'.format(cost_history[-1]))\n",
        "\n",
        "# Plot cost history\n",
        "fig, ax = plt.subplots(figsize=(10, 8))\n",
        "ax.set_ylabel('Error')\n",
        "ax.set_xlabel('Number of iterations')\n",
        "ax.plot(range(n_iter), cost_history, 'b.')\n",
        "plt.show()\n",
        "\n",
        "     \n",
        "y_pred[0]: 1.979\n",
        "y_pred[1]: 3.083\n",
        "Final error: 0.235"
      ],
      "metadata": {
        "id": "FDmm3CHtU8OP"
      }
    },
    {
      "cell_type": "markdown",
      "source": [
        "## **Additional Critical Thinking Question**\n",
        "\n"
      ],
      "metadata": {
        "id": "u8BdtVjRdKOq"
      }
    },
    {
      "cell_type": "markdown",
      "source": [
        "**Which of the following is TRUE, given the optimal learning rate?**\n",
        "\n",
        " (i) Batch gradient descent is always guaranteed to converge to the global optimum of a loss function.\n",
        "\n",
        " (ii) Stochastic gradient descent is always guaranteed to converge to the global optimum of a loss function.\n",
        "\n",
        " (iii) For convex loss functions (i.e. with a bowl shape), batch gradient descent is guaranteed to eventually converge to the global optimum while stochastic gradient descent is not.\n",
        "\n",
        " (iv) For convex loss functions (i.e. with a bowl shape), stochastic gradient descent is guaranteed to eventually converge to the global optimum while batch gradient descent is not.\n",
        "\n",
        " (v) For convex loss functions (i.e. with a bowl shape), both stochastic gradient descent and batch gradient descent will eventually converge to the global optimum.\n",
        "\n",
        " (vi) For convex loss functions (i.e. with a bowl shape), neither stochastic gradient descent nor batch gradient descent are guaranteed to converge to the global optimum."
      ],
      "metadata": {
        "id": "5XZRrUrffL2s"
      }
    },
    {
      "cell_type": "markdown",
      "source": [
        "Let's analyze each statement: (i) Batch gradient descent is always guaranteed to converge to the global optimum of a loss function.\n",
        "\n",
        "This is false. Batch gradient descent is guaranteed to converge to the global optimum only if the loss function is convex. If the loss function has multiple minima (non-convex), batch gradient descent may converge to a local minimum, not the global one. (ii) Stochastic gradient descent is always guaranteed to converge to the global optimum of a loss function.\n",
        "\n",
        "This is false. Stochastic gradient descent (SGD) can suffer from high variance due to updates from individual data points, which can prevent convergence to the global optimum. However, in the case of convex loss functions, SGD can still converge to the global optimum if the learning rate is properly adjusted. (iii) For convex loss functions (i.e. with a bowl shape), batch gradient descent is guaranteed to eventually converge to the global optimum while stochastic gradient descent is not.\n",
        "\n",
        "This is false. Both batch gradient descent and stochastic gradient descent can converge to the global optimum for convex loss functions, although their convergence behavior might differ. Batch gradient descent converges smoothly, while stochastic gradient descent might have more fluctuation but still eventually converge. (iv) For convex loss functions (i.e. with a bowl shape), stochastic gradient descent is guaranteed to eventually converge to the global optimum while batch gradient descent is not.\n",
        "\n",
        "This is false. Batch gradient descent is guaranteed to converge to the global optimum for convex loss functions. Stochastic gradient descent, although it may have noisier updates, can also converge to the global optimum in convex settings, but it might take longer to settle because of the inherent noise in updates. (v) For convex loss functions (i.e. with a bowl shape), both stochastic gradient descent and batch gradient descent will eventually converge to the global optimum.\n",
        "\n",
        "This is true. Both methods will eventually converge to the global optimum for convex loss functions. The main difference is that batch gradient descent tends to converge smoothly, while stochastic gradient descent may oscillate or take longer to reach the minimum due to its noisy updates. (vi) For convex loss functions (i.e. with a bowl shape), neither stochastic gradient descent nor batch gradient descent are guaranteed to converge to the global optimum.\n",
        "\n",
        "This is false. Both methods are guaranteed to converge to the global optimum for convex loss functions, as discussed above."
      ],
      "metadata": {
        "id": "XZQ7DXrIVR7n"
      }
    }
  ]
}